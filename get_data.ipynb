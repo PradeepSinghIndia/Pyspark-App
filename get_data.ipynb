{
 "metadata": {
  "language_info": {
   "codemirror_mode": {
    "name": "ipython",
    "version": 3
   },
   "file_extension": ".py",
   "mimetype": "text/x-python",
   "name": "python",
   "nbconvert_exporter": "python",
   "pygments_lexer": "ipython3",
   "version": "3.7.0"
  },
  "orig_nbformat": 2,
  "kernelspec": {
   "name": "python370jvsc74a57bd0fdeb213b8dc8aaa38bef9b377f716b3e78b98b0ffa143a0c368a5f21f97a0a24",
   "display_name": "Python 3.7.0 64-bit ('sparkvenv': conda)"
  }
 },
 "nbformat": 4,
 "nbformat_minor": 2,
 "cells": [
  {
   "cell_type": "code",
   "execution_count": 1,
   "metadata": {},
   "outputs": [],
   "source": [
    "import requests\n",
    "import zipfile\n",
    "import io\n",
    "\n",
    "zip_file_url = \"http://files.grouplens.org/datasets/movielens/ml-latest-small.zip\"\n",
    "output_path = \"data/\"\n",
    "\n",
    "response = requests.get(zip_file_url)\n",
    "\n",
    "if response.status_code == 200:\n",
    "    zip_file = zipfile.ZipFile(io.BytesIO(response.content))\n",
    "    zip_file.extractall(output_path)"
   ]
  },
  {
   "cell_type": "code",
   "execution_count": null,
   "metadata": {},
   "outputs": [],
   "source": []
  }
 ]
}